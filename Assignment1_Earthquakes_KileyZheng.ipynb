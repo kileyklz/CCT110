{
 "cells": [
  {
   "cell_type": "code",
   "execution_count": null,
   "metadata": {},
   "outputs": [],
   "source": [
    "import math\n",
    "\n",
    "# Prompt user to enter a Richter scale measurement\n",
    "num_str = input(\"Please enter a Richter scale value: \")\n",
    "\n",
    "# converts input number to a float type\n",
    "num_float = float(num_str)\n",
    "\n",
    "print(\"Richter scale value: \", num_str)\n",
    "\n",
    "# calculation for energy using user input Richter value\n",
    "energy = 10**((1.5*num_float)+4.8)\n",
    "\n",
    "print(\"Energy: \", energy)\n",
    "\n",
    "# calculation for tons of exploded TNT using the energy value\n",
    "tons_TNT = energy/(4.184*10**9)\n",
    "\n",
    "print(\"Tons of exploded TNT: \", tons_TNT)"
   ]
  }
 ],
 "metadata": {
  "language_info": {
   "name": "python"
  },
  "orig_nbformat": 4
 },
 "nbformat": 4,
 "nbformat_minor": 2
}
