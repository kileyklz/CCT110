{
 "cells": [
  {
   "cell_type": "code",
   "execution_count": null,
   "metadata": {},
   "outputs": [],
   "source": [
    "import math\n",
    "\n",
    "# Prompt user to enter a Richter scale measurement\n",
    "num_str = input(\"Please enter a Richter scale value: \")\n",
    "\n",
    "# converts input number to a float type\n",
    "num_float = float(num_str)\n",
    "\n",
    "print(\"Richter scale value: \", num_str)\n",
    "\n",
    "# calculation for energy using user input Richter value\n",
    "energy = 10**((1.5*num_float)+4.8)\n",
    "\n",
    "print(\"Energy: \", energy)\n",
    "\n",
    "# calculation for tons of exploded TNT using the energy value\n",
    "tons_TNT = energy/(4.184*10**9)\n",
    "\n",
    "print(\"Tons of exploded TNT: \", tons_TNT)"
   ]
  },
  {
   "cell_type": "code",
   "execution_count": null,
   "metadata": {},
   "outputs": [],
   "source": [
    "\n",
    "# Prints out the heading titles\n",
    "print(\"Richter      Joules                   TNT \")\n",
    "\n",
    "# list of testing numbers\n",
    "rValue = [1.0, 5.0, 9.1, 9.2, 9.5]\n",
    "\n",
    "# loops and prints through list with calculations\n",
    "for x in rValue:\n",
    "    ansJoules = (10**((1.5*x)+4.8))\n",
    "    ansTNT = (10**((1.5*x)+4.8))/(4.184*10**9)\n",
    "    print(x, \"        \", ansJoules, \"     \", ansTNT)\n",
    "\n",
    "print(\" \")\n",
    "\n",
    "# Prompt user to enter a Richter scale measurement\n",
    "num_str = input(\"Please enter a Richter scale value: \")\n",
    "\n",
    "# converts input number to a float type\n",
    "num_float = float(num_str)\n",
    "\n",
    "print(\"Richter scale value: \", num_float)\n",
    "\n",
    "# calculation for energy using user input Richter value\n",
    "joules = 10**((1.5*num_float)+4.8)\n",
    "\n",
    "print(\"Equivalence in joules: \", joules)\n",
    "\n",
    "# calculation for tons of exploded TNT using the energy value\n",
    "tons_TNT = joules/(4.184*10**9)\n",
    "\n",
    "print(\"Equivalence in tons of TNT: \", tons_TNT)\n"
   ]
  },
  {
   "cell_type": "code",
   "execution_count": 1,
   "metadata": {},
   "outputs": [
    {
     "ename": "SyntaxError",
     "evalue": "invalid syntax. Perhaps you forgot a comma? (3447829915.py, line 10)",
     "output_type": "error",
     "traceback": [
      "\u001b[0;36m  Cell \u001b[0;32mIn[1], line 10\u001b[0;36m\u001b[0m\n\u001b[0;31m    print(r_value[0] + \"       \" + (10**((1.5*r_value[0])+4.8)) + \"        \" + (10**((1.5*r_value[0])+4.8))/(4.184*10**9)\u001b[0m\n\u001b[0m          ^\u001b[0m\n\u001b[0;31mSyntaxError\u001b[0m\u001b[0;31m:\u001b[0m invalid syntax. Perhaps you forgot a comma?\n"
     ]
    }
   ],
   "source": [
    "\n",
    "# Prints out the heading titles\n",
    "print(\"Richter       Joules                  TNT \")\n",
    "\n",
    "# list of testing numbers\n",
    "r_value = [1.0, 5.0, 9.1, 9.2, 9.5]\n",
    "length = len(r_value)\n",
    "\n",
    "\n",
    "# prints out the calculations for the testing values\n",
    "print(r_value[0] + \"       \" + (10**((1.5*r_value[0])+4.8)) + \"        \" + (10**((1.5*r_value[0])+4.8))/(4.184*10**9)\n",
    "print(r_value[1] + \"       \" + (10**((1.5*r_value[1])+4.8)) + \"        \" + (10**((1.5*r_value[1])+4.8))/(4.184*10**9)\n",
    "print(r_value[2] + \"       \" + (10**((1.5*r_value[2])+4.8)) + \"        \" + (10**((1.5*r_value[2])+4.8))/(4.184*10**9)\n",
    "print(r_value[3] + \"       \" + (10**((1.5*r_value[3])+4.8)) + \"        \" + (10**((1.5*r_value[3])+4.8))/(4.184*10**9)\n",
    "print(r_value[4] + \"       \" + (10**((1.5*r_value[4])+4.8)) + \"        \" + (10**((1.5*r_value[4])+4.8))/(4.184*10**9)\n",
    "\n",
    "# Prompt user to enter a Richter scale measurement\n",
    "num_str = input(\"Please enter a Richter scale value: \")\n",
    "\n",
    "# converts input number to a float type\n",
    "num_float = float(num_str)\n",
    "\n",
    "print(\"Richter scale value: \", num_float)\n",
    "\n",
    "# calculation for energy using user input Richter value\n",
    "joules = 10**((1.5*num_float)+4.8)\n",
    "\n",
    "print(\"Equivalence in joules: \", joules)\n",
    "\n",
    "# calculation for tons of exploded TNT using the energy value\n",
    "tons_TNT = joules/(4.184*10**9)\n",
    "\n",
    "print(\"Equivalence in tons of TNT: \", tons_TNT)\n"
   ]
  }
 ],
 "metadata": {
  "kernelspec": {
   "display_name": "Python 3 (ipykernel)",
   "language": "python",
   "name": "python3"
  },
  "language_info": {
   "codemirror_mode": {
    "name": "ipython",
    "version": 3
   },
   "file_extension": ".py",
   "mimetype": "text/x-python",
   "name": "python",
   "nbconvert_exporter": "python",
   "pygments_lexer": "ipython3",
   "version": "3.10.4"
  },
  "orig_nbformat": 4
 },
 "nbformat": 4,
 "nbformat_minor": 2
}
